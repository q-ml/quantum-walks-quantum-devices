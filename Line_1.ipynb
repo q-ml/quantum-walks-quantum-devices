{
 "cells": [
  {
   "cell_type": "code",
   "execution_count": 9,
   "metadata": {},
   "outputs": [
    {
     "data": {
      "text/html": [
       "<pre style=\"word-wrap: normal;white-space: pre;background: #fff0;line-height: 1.1;font-family: &quot;Courier New&quot;,Courier,monospace\">        ┌───┐                 ┌───┐                   ┌───┐┌─┐\n",
       "q_0: |0>┤ H ├─■──────────■────┤ X ├─■───────────■─────┤ X ├┤M├\n",
       "        ├───┤ │4.8 ┌───┐ │4.8 └───┘ │14.4 ┌───┐ │14.4 └┬─┬┘└╥┘\n",
       "q_1: |0>┤ H ├─■────┤ X ├─■──────────■─────┤ X ├─■──────┤M├──╫─\n",
       "        └───┘      └───┘                  └───┘        └╥┘  ║ \n",
       " c_0: 0 ════════════════════════════════════════════════╬═══╩═\n",
       "                                                        ║     \n",
       " c_1: 0 ════════════════════════════════════════════════╩═════\n",
       "                                                              </pre>"
      ],
      "text/plain": [
       "<qiskit.visualization.text.TextDrawing at 0x13a489d90>"
      ]
     },
     "execution_count": 9,
     "metadata": {},
     "output_type": "execute_result"
    }
   ],
   "source": [
    "from qiskit import *\n",
    "q = QuantumRegister(2, 'q')\n",
    "c = ClassicalRegister(2, \"c\")\n",
    "circuit = QuantumCircuit(q, c)\n",
    "#g represents the values of gamma\n",
    "g_1 = 14.4\n",
    "g_2 = 14.4\n",
    "g_3 = 4.8\n",
    "g_4 = 4.8\n",
    "# some state preparation\n",
    "circuit.h(q[0])\n",
    "circuit.h(q[1])\n",
    "circuit.cu1(g_4, q[0], q[1])\n",
    "circuit.x(q[1])\n",
    "circuit.cu1(g_3, q[0], q[1])\n",
    "circuit.x(q[0])\n",
    "circuit.cu1(g_1, q[0], q[1])\n",
    "circuit.x(q[1])\n",
    "circuit.cu1(g_2, q[0], q[1])\n",
    "circuit.x(q[0])\n",
    "circuit.measure(q[0], c[0])\n",
    "circuit.measure(q[1], c[1])\n",
    "circuit.draw()\n"
   ]
  },
  {
   "cell_type": "code",
   "execution_count": 10,
   "metadata": {},
   "outputs": [
    {
     "name": "stdout",
     "output_type": "stream",
     "text": [
      "{'10': 2055, '01': 2020, '11': 2087, '00': 2030}\n"
     ]
    }
   ],
   "source": [
    "backend = BasicAer.get_backend('qasm_simulator')\n",
    "answer = execute(circuit, backend=backend, shots=8192).result().get_counts()\n",
    "print(answer)"
   ]
  },
  {
   "cell_type": "code",
   "execution_count": null,
   "metadata": {},
   "outputs": [],
   "source": []
  }
 ],
 "metadata": {
  "kernelspec": {
   "display_name": "Python 3",
   "language": "python",
   "name": "python3"
  },
  "language_info": {
   "codemirror_mode": {
    "name": "ipython",
    "version": 3
   },
   "file_extension": ".py",
   "mimetype": "text/x-python",
   "name": "python",
   "nbconvert_exporter": "python",
   "pygments_lexer": "ipython3",
   "version": "3.7.6"
  }
 },
 "nbformat": 4,
 "nbformat_minor": 2
}
