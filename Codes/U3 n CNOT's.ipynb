{
 "cells": [
  {
   "cell_type": "code",
   "execution_count": 1,
   "metadata": {},
   "outputs": [],
   "source": [
    "from qiskit import *\n",
    "import random\n",
    "import numpy as np\n",
    "from qiskit.circuit.library.standard_gates import XGate, CXGate"
   ]
  },
  {
   "cell_type": "code",
   "execution_count": 2,
   "metadata": {},
   "outputs": [],
   "source": [
    "from qiskit import IBMQ"
   ]
  },
  {
   "cell_type": "code",
   "execution_count": 3,
   "metadata": {},
   "outputs": [
    {
     "data": {
      "text/plain": [
       "<AccountProvider for IBMQ(hub='ibm-q', group='open', project='main')>"
      ]
     },
     "execution_count": 3,
     "metadata": {},
     "output_type": "execute_result"
    }
   ],
   "source": [
    "IBMQ.load_account()"
   ]
  },
  {
   "cell_type": "code",
   "execution_count": 4,
   "metadata": {},
   "outputs": [],
   "source": [
    "provider = IBMQ.get_provider(hub='ibm-q-hub-ntu', group='ntu-internal', project='default')"
   ]
  },
  {
   "cell_type": "code",
   "execution_count": 5,
   "metadata": {},
   "outputs": [],
   "source": [
    "sim_backend = provider.get_backend('ibmq_qasm_simulator')"
   ]
  },
  {
   "cell_type": "code",
   "execution_count": 6,
   "metadata": {},
   "outputs": [],
   "source": [
    "n_q = 4\n",
    "q = QuantumRegister(n_q)\n",
    "c = ClassicalRegister(n_q)\n",
    "circ = QuantumCircuit(q, c)"
   ]
  },
  {
   "cell_type": "code",
   "execution_count": null,
   "metadata": {},
   "outputs": [],
   "source": [
    "#n is the no. of random circuits used\n",
    "n_circ = 0\n",
    "while n_circ < 100:\n",
    "    circ = QuantumCircuit(q, c)\n",
    "    for i in range(n_q):\n",
    "        circ.u3(random.uniform(0, np.pi),random.uniform(0, np.pi),random.uniform(0, np.pi), q[i])\n",
    "    #randomly choosing gates from list gates\n",
    "    circ.append(CXGate(), random.sample(range(n_q), 2))\n",
    "    #measuring the qubits\n",
    "    circ.measure(q, c)\n",
    "    job = execute(circ,backend = sim_backend, shots = 8192 )\n",
    "    output = job.result()\n",
    "    answer = output.get_counts(circ)\n",
    "    if '1111' in answer.keys() and answer['1111'] > 7373 :\n",
    "        print(answer)\n",
    "        break \n",
    "    n_circ += 1      \n",
    "if n_circ < 100 :\n",
    "    print('Hurray')\n",
    "else :\n",
    "    print('Better luck next time')"
   ]
  },
  {
   "cell_type": "code",
   "execution_count": null,
   "metadata": {},
   "outputs": [],
   "source": [
    "#plotting the circ \n",
    "%matplotlib inline \n",
    "circ.draw(output = 'mpl')"
   ]
  },
  {
   "cell_type": "code",
   "execution_count": null,
   "metadata": {},
   "outputs": [],
   "source": [
    "for i in range(0, n_q) :\n",
    "    circ.data.pop(len(circ.data)-1)"
   ]
  },
  {
   "cell_type": "code",
   "execution_count": null,
   "metadata": {},
   "outputs": [],
   "source": [
    "np.set_printoptions(threshold=sys.maxsize)\n",
    "import qiskit.quantum_info as qi\n",
    "unitary = qi.Operator(circ)\n",
    "print(unitary)"
   ]
  }
 ],
 "metadata": {
  "kernelspec": {
   "display_name": "Python 3",
   "language": "python",
   "name": "python3"
  },
  "language_info": {
   "codemirror_mode": {
    "name": "ipython",
    "version": 3
   },
   "file_extension": ".py",
   "mimetype": "text/x-python",
   "name": "python",
   "nbconvert_exporter": "python",
   "pygments_lexer": "ipython3",
   "version": "3.7.6"
  }
 },
 "nbformat": 4,
 "nbformat_minor": 4
}
