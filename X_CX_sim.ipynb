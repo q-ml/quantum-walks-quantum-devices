{
 "cells": [
  {
   "cell_type": "code",
   "execution_count": 1,
   "metadata": {},
   "outputs": [],
   "source": [
    "#initializing qiskit and backends\n",
    "from qiskit import *\n",
    "import random"
   ]
  },
  {
   "cell_type": "code",
   "execution_count": 2,
   "metadata": {},
   "outputs": [],
   "source": [
    "from qiskit import IBMQ"
   ]
  },
  {
   "cell_type": "code",
   "execution_count": 3,
   "metadata": {},
   "outputs": [
    {
     "data": {
      "text/plain": [
       "<AccountProvider for IBMQ(hub='ibm-q', group='open', project='main')>"
      ]
     },
     "execution_count": 3,
     "metadata": {},
     "output_type": "execute_result"
    }
   ],
   "source": [
    "IBMQ.load_account()"
   ]
  },
  {
   "cell_type": "code",
   "execution_count": 4,
   "metadata": {},
   "outputs": [],
   "source": [
    "provider = IBMQ.get_provider(hub='ibm-q-hub-ntu', group='ntu-internal', project='default')"
   ]
  },
  {
   "cell_type": "code",
   "execution_count": 5,
   "metadata": {},
   "outputs": [],
   "source": [
    "sim_backend = provider.get_backend('ibmq_qasm_simulator')"
   ]
  },
  {
   "cell_type": "code",
   "execution_count": 6,
   "metadata": {},
   "outputs": [],
   "source": [
    "n = 3\n",
    "q = QuantumRegister(n)\n",
    "c = ClassicalRegister(n)\n",
    "circ = QuantumCircuit(q, c)"
   ]
  },
  {
   "cell_type": "code",
   "execution_count": 7,
   "metadata": {},
   "outputs": [],
   "source": [
    "#initializing circuits\n",
    "circ1 = QuantumCircuit(q, c)\n",
    "circ2 = QuantumCircuit(q, c)\n",
    "circ3 = QuantumCircuit(q, c)\n",
    "circ4 = QuantumCircuit(q, c)\n",
    "circ5 = QuantumCircuit(q, c)\n",
    "circ6 = QuantumCircuit(q, c)\n",
    "circ7 = QuantumCircuit(q, c)\n",
    "circ8 = QuantumCircuit(q, c)\n",
    "circ9 = QuantumCircuit(q, c)"
   ]
  },
  {
   "cell_type": "code",
   "execution_count": 8,
   "metadata": {},
   "outputs": [],
   "source": [
    "#putting all of them to a list\n",
    "gates = [circ1, circ2, circ3, circ4, circ5, circ6, circ7, circ8, circ9]"
   ]
  },
  {
   "cell_type": "code",
   "execution_count": 9,
   "metadata": {},
   "outputs": [
    {
     "name": "stdout",
     "output_type": "stream",
     "text": [
      "{'111': 8192}\n",
      "Hurray\n"
     ]
    }
   ],
   "source": [
    "#n is the no. of random circuits used\n",
    "n = 0\n",
    "while n<100 :\n",
    "    #appending possible gates into diff circ's\n",
    "    circ1.x(q[0])\n",
    "    circ2.x(q[1])\n",
    "    circ3.x(q[2])\n",
    "    circ4.cx(q[0], q[1])\n",
    "    circ5.cx(q[0], q[2])\n",
    "    circ6.cx(q[1], q[2])\n",
    "    circ7.cx(q[1], q[0])\n",
    "    circ8.cx(q[2], q[0])\n",
    "    circ9.cx(q[2], q[1])\n",
    "    \n",
    "    #randomly choosing gates from list gates\n",
    "    for i in range (10):\n",
    "        circ += random.choice(gates)\n",
    "    \n",
    "    #measuring the qubits\n",
    "    circ.measure(q, c)\n",
    "    job = execute(circ,backend = sim_backend, shots = 8192 )\n",
    "    output = job.result()\n",
    "    answer = output.get_counts(circ)\n",
    "    if '111' in answer.keys() and answer['111'] > 7373 :\n",
    "        print(answer)\n",
    "        break\n",
    "    circ.reset(q)        \n",
    "    n += 1      \n",
    "if n < 100 :\n",
    "    print('Hurray')\n",
    "else :\n",
    "    print('Better luck next time')\n",
    "\n",
    "    \n",
    "    "
   ]
  },
  {
   "cell_type": "code",
   "execution_count": 10,
   "metadata": {},
   "outputs": [
    {
     "data": {
      "image/png": "[encoded data removed]",
      "text/plain": [
       "<Figure size 851.228x264.88 with 1 Axes>"
      ]
     },
     "execution_count": 10,
     "metadata": {},
     "output_type": "execute_result"
    }
   ],
   "source": [
    "#plotting the circ \n",
    "%matplotlib inline \n",
    "circ.draw(output = 'mpl')"
   ]
  }
 ],
 "metadata": {
  "kernelspec": {
   "display_name": "Python 3",
   "language": "python",
   "name": "python3"
  },
  "language_info": {
   "codemirror_mode": {
    "name": "ipython",
    "version": 3
   },
   "file_extension": ".py",
   "mimetype": "text/x-python",
   "name": "python",
   "nbconvert_exporter": "python",
   "pygments_lexer": "ipython3",
   "version": "3.7.6"
  }
 },
 "nbformat": 4,
 "nbformat_minor": 4
}
